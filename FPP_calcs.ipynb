{
 "metadata": {
  "name": ""
 },
 "nbformat": 3,
 "nbformat_minor": 0,
 "worksheets": [
  {
   "cells": [
    {
     "cell_type": "code",
     "collapsed": false,
     "input": [
      "import os,re,scipy \n",
      "from astropy.io import fits\n",
      "import pyfits\n",
      "from astropy import units as u\n",
      "from astropy.coordinates import SkyCoord as SCord\n",
      "import weighted_photon_tools as wpt\n",
      "import plot_tools \n",
      "import seaborn as sns\n",
      "from glob import glob\n",
      "from joblib import Parallel, delayed"
     ],
     "language": "python",
     "metadata": {},
     "outputs": [],
     "prompt_number": 1
    },
    {
     "cell_type": "code",
     "collapsed": false,
     "input": [
      "from scipy.stats import vonmises as V"
     ],
     "language": "python",
     "metadata": {},
     "outputs": [],
     "prompt_number": 2
    },
    {
     "cell_type": "code",
     "collapsed": false,
     "input": [
      "plot_tools.plot_env()\n",
      "sns.set_style(\"white\")\n",
      "sns.set_style(\"whitegrid\", {'axes.grid' : False})\n",
      "sns.set_style(\"ticks\")\n",
      "res_dir = 'results'"
     ],
     "language": "python",
     "metadata": {},
     "outputs": [],
     "prompt_number": 3
    },
    {
     "cell_type": "code",
     "collapsed": false,
     "input": [
      "hdulist=fits.open('photons-probability-okay.fits')\n",
      "hdulist.info()\n",
      "tabledata = hdulist[1].data #list of list of keywords, can also replace 1 with 'EVENTS'"
     ],
     "language": "python",
     "metadata": {},
     "outputs": [
      {
       "output_type": "stream",
       "stream": "stdout",
       "text": [
        "Filename: photons-probability-okay.fits\n",
        "No.    Name         Type      Cards   Dimensions   Format\n",
        "0    PRIMARY     PrimaryHDU      36   ()              \n",
        "1    EVENTS      BinTableHDU    233   315269R x 25C   [E, E, E, E, E, E, E, E, E, D, J, J, I, 3I, 32X, 32X, I, D, E, E, E, E, E, 1E, 1D]   \n",
        "2    GTI         BinTableHDU     46   54362R x 2C   [D, D]   \n"
       ]
      }
     ],
     "prompt_number": 4
    },
    {
     "cell_type": "code",
     "collapsed": false,
     "input": [
      "print hdulist[1].columns.names\n",
      "print hdulist[1].columns.units"
     ],
     "language": "python",
     "metadata": {},
     "outputs": [
      {
       "output_type": "stream",
       "stream": "stdout",
       "text": [
        "['ENERGY', 'RA', 'DEC', 'L', 'B', 'THETA', 'PHI', 'ZENITH_ANGLE', 'EARTH_AZIMUTH_ANGLE', 'TIME', 'EVENT_ID', 'RUN_ID', 'RECON_VERSION', 'CALIB_VERSION', 'EVENT_CLASS', 'EVENT_TYPE', 'CONVERSION_TYPE', 'LIVETIME', 'DIFRSP0', 'DIFRSP1', 'DIFRSP2', 'DIFRSP3', 'DIFRSP4', '_2FGLJ1023.6+0040', 'PULSE_PHASE']\n",
        "['MeV', 'deg', 'deg', 'deg', 'deg', 'deg', 'deg', 'deg', 'deg', 's', '', '', '', '', '', '', '', 's', '', '', '', '', '', '', '']\n"
       ]
      }
     ],
     "prompt_number": 5
    },
    {
     "cell_type": "code",
     "collapsed": false,
     "input": [
      "Phases = tabledata['PULSE_PHASE']\n",
      "Probs = tabledata['_2FGLJ1023.6+0040']"
     ],
     "language": "python",
     "metadata": {},
     "outputs": [],
     "prompt_number": 6
    },
    {
     "cell_type": "code",
     "collapsed": false,
     "input": [
      "np.sum(Probs)"
     ],
     "language": "python",
     "metadata": {},
     "outputs": [
      {
       "metadata": {},
       "output_type": "pyout",
       "prompt_number": 7,
       "text": [
        "9675.0342"
       ]
      }
     ],
     "prompt_number": 7
    },
    {
     "cell_type": "code",
     "collapsed": false,
     "input": [
      "#experimnetal block to plot the fake phases \n",
      "H, bins= wpt.plot_result(Phases,Probs)\n",
      "print H, bins\n",
      "P = wpt.fold_phases(Phases)\n",
      "fake_phs = wpt.Profile.generate_fake_phases(P,len(Phases))\n",
      "plot_tools.tick_par(plt)\n",
      "plot_tools.plot_size(plt,mul=1) \n",
      "plt.tight_layout()\n",
      "plt.axhline(0)"
     ],
     "language": "python",
     "metadata": {},
     "outputs": [
      {
       "output_type": "stream",
       "stream": "stdout",
       "text": [
        "-0.277653876099 4\n"
       ]
      },
      {
       "metadata": {},
       "output_type": "pyout",
       "prompt_number": 8,
       "text": [
        "<matplotlib.lines.Line2D at 0x7fdf1614c6d0>"
       ]
      },
      {
       "metadata": {},
       "output_type": "display_data",
       "png": "iVBORw0KGgoAAAANSUhEUgAAAVcAAAGJCAYAAAA+BXBHAAAABHNCSVQICAgIfAhkiAAAAAlwSFlz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\nRK5CYII=\n",
       "text": [
        "<matplotlib.figure.Figure at 0x7fdf2dfca050>"
       ]
      }
     ],
     "prompt_number": 8
    },
    
