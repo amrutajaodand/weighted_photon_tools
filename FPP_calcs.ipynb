{
 "metadata": {
  "name": ""
 },
 "nbformat": 3,
 "nbformat_minor": 0,
 "worksheets": [
  {
   "cells": [
    {
     "cell_type": "code",
     "collapsed": false,
     "input": [
      "import os,re,scipy \n",
      "from astropy.io import fits\n",
      "import pyfits\n",
      "from astropy import units as u\n",
      "from astropy.coordinates import SkyCoord as SCord\n",
      "import weighted_photon_tools as wpt\n",
      "import plot_tools \n",
      "import seaborn as sns\n",
      "from glob import glob\n",
      "from joblib import Parallel, delayed"
     ],
     "language": "python",
     "metadata": {},
     "outputs": [],
     "prompt_number": 1
    },
    {
     "cell_type": "code",
     "collapsed": false,
     "input": [
      "from scipy.stats import vonmises as V"
     ],
     "language": "python",
     "metadata": {},
     "outputs": [],
     "prompt_number": 2
    },
    {
     "cell_type": "code",
     "collapsed": false,
     "input": [
      "plot_tools.plot_env()\n",
      "sns.set_style(\"white\")\n",
      "sns.set_style(\"whitegrid\", {'axes.grid' : False})\n",
      "sns.set_style(\"ticks\")\n",
      "res_dir = 'results'"
     ],
     "language": "python",
     "metadata": {},
     "outputs": [],
     "prompt_number": 3
    },
    {
     "cell_type": "code",
     "collapsed": false,
     "input": [
      "hdulist=fits.open('photons-probability-okay.fits')\n",
      "hdulist.info()\n",
      "tabledata = hdulist[1].data #list of list of keywords, can also replace 1 with 'EVENTS'"
     ],
     "language": "python",
     "metadata": {},
     "outputs": [
      {
       "output_type": "stream",
       "stream": "stdout",
       "text": [
        "Filename: photons-probability-okay.fits\n",
        "No.    Name         Type      Cards   Dimensions   Format\n",
        "0    PRIMARY     PrimaryHDU      36   ()              \n",
        "1    EVENTS      BinTableHDU    233   315269R x 25C   [E, E, E, E, E, E, E, E, E, D, J, J, I, 3I, 32X, 32X, I, D, E, E, E, E, E, 1E, 1D]   \n",
        "2    GTI         BinTableHDU     46   54362R x 2C   [D, D]   \n"
       ]
      }
     ],
     "prompt_number": 4
    },
    {
     "cell_type": "code",
     "collapsed": false,
     "input": [
      "print hdulist[1].columns.names\n",
      "print hdulist[1].columns.units"
     ],
     "language": "python",
     "metadata": {},
     "outputs": [
      {
       "output_type": "stream",
       "stream": "stdout",
       "text": [
        "['ENERGY', 'RA', 'DEC', 'L', 'B', 'THETA', 'PHI', 'ZENITH_ANGLE', 'EARTH_AZIMUTH_ANGLE', 'TIME', 'EVENT_ID', 'RUN_ID', 'RECON_VERSION', 'CALIB_VERSION', 'EVENT_CLASS', 'EVENT_TYPE', 'CONVERSION_TYPE', 'LIVETIME', 'DIFRSP0', 'DIFRSP1', 'DIFRSP2', 'DIFRSP3', 'DIFRSP4', '_2FGLJ1023.6+0040', 'PULSE_PHASE']\n",
        "['MeV', 'deg', 'deg', 'deg', 'deg', 'deg', 'deg', 'deg', 'deg', 's', '', '', '', '', '', '', '', 's', '', '', '', '', '', '', '']\n"
       ]
      }
     ],
     "prompt_number": 5
    },
    {
     "cell_type": "code",
     "collapsed": false,
     "input": [
      "Phases = tabledata['PULSE_PHASE']\n",
      "Probs = tabledata['_2FGLJ1023.6+0040']"
     ],
     "language": "python",
     "metadata": {},
     "outputs": [],
     "prompt_number": 6
    },
    {
     "cell_type": "code",
     "collapsed": false,
     "input": [
      "np.sum(Probs)"
     ],
     "language": "python",
     "metadata": {},
     "outputs": [
      {
       "metadata": {},
       "output_type": "pyout",
       "prompt_number": 7,
       "text": [
        "9675.0342"
       ]
      }
     ],
     "prompt_number": 7
    },
    {
     "cell_type": "code",
     "collapsed": false,
     "input": [
      "#experimnetal block to plot the fake phases \n",
      "H, bins= wpt.plot_result(Phases,Probs)\n",
      "print H, bins\n",
      "P = wpt.fold_phases(Phases)\n",
      "fake_phs = wpt.Profile.generate_fake_phases(P,len(Phases))\n",
      "plot_tools.tick_par(plt)\n",
      "plot_tools.plot_size(plt,mul=1) \n",
      "plt.tight_layout()\n",
      "plt.axhline(0)"
     ],
     "language": "python",
     "metadata": {},
     "outputs": [
      {
       "output_type": "stream",
       "stream": "stdout",
       "text": [
        "-0.277653876099 4\n"
       ]
      },
      {
       "metadata": {},
       "output_type": "pyout",
       "prompt_number": 8,
       "text": [
        "<matplotlib.lines.Line2D at 0x7fdf1614c6d0>"
       ]
      },
      {
       "metadata": {},
       "output_type": "display_data",
       "png": "[encoded data removed]",
       "text": [
        "<matplotlib.figure.Figure at 0x7fdf2dfca050>"
       ]
      }
     ],
     "prompt_number": 8
    },
    {
     "cell_type": "code",
     "collapsed": false,
     "input": [
      "#setting a parameter range for a given profile \n",
      "#variation of the width of the profile and the pulse fraction \n",
      "kappa = np.array([1,3,10,25])\n",
      "pf = np.array([0.05,0.1,0.2,0.8,1]) #assuming less than 10% of the photons are pulsed "
     ],
     "language": "python",
     "metadata": {},
     "outputs": [],
     "prompt_number": 9
    },
    {
     "cell_type": "code",
     "collapsed": false,
     "input": [
      "def gen_sinusoid(n):\n",
      "    u = np.random.uniform(0,1,size=n)\n",
      "    p = 1+np.sin(2*np.pi*u)\n",
      "    c = np.random.uniform(0,1,size=n)<p \n",
      "    u[c] = 1-u[c]\n",
      "    return u"
     ],
     "language": "python",
     "metadata": {},
     "outputs": [],
     "prompt_number": 10
    },
    {
     "cell_type": "code",
     "collapsed": false,
     "input": [
      "def Fake_Phs_Generator(Prbs, Kappa, PF, dist_type=None):\n",
      "    #this function generates phases for photons pulsed at teh level set by PF. \n",
      "    #It also add a background to the simulation \n",
      "    if dist_type =='Sine':\n",
      "        fake_phases1 = gen_sinusoid(len(Prbs))\n",
      "    else:\n",
      "        fake_phases1 = V.rvs(Kappa, size = len(Prbs))*(1./(2*np.pi))\n",
      "\n",
      "    #generate a constant DC offset corrsponding to the unpulsed photons. \n",
      "    np.random.seed()\n",
      "    unpulsed = np.random.uniform(-0.5,0.5,len(Prbs))\n",
      "    fake_phases2 = unpulsed\n",
      "    c = np.random.uniform(0,1,len(Prbs))<PF \n",
      "    fake_phases2[c] = fake_phases1[c] \n",
      "    fake_phases2[c]\n",
      "    idx= np.where(np.random.uniform(0,1,len(Prbs))<PF )\n",
      "  \n",
      "    #Simulating background for the phases \n",
      "    unpulsed = np.random.uniform(-0.5,0.5,len(Prbs))\n",
      "    fake_phases3 = unpulsed \n",
      "    c = np.random.uniform(0,1,len(Prbs))<=Prbs\n",
      "    fake_phases3[c] = fake_phases2[c]\n",
      "    \n",
      "    return fake_phases3"
     ],
     "language": "python",
     "metadata": {},
     "outputs": [],
     "prompt_number": 11
    },
    {
     "cell_type": "code",
     "collapsed": false,
     "input": [
      "##Block to gemerate the data for the sinusoidal waves\n",
      "def f_hs(k_a, p_f): \n",
      "    fake_phase = Fake_Phs_Generator(Probs, k_a, p_f)\n",
      "    hscore, Nc = wpt.plot_result(fake_phase,Probs)\n",
      "    return k_a, p_f,hscore\n",
      " \n",
      "def Vm_simulator():\n",
      "    data = Parallel(n_jobs=10)(delayed(f_hs)(k,p) for k in kappa for p in pf)\n",
      "    return data "
     ],
     "language": "python",
     "metadata": {},
     "outputs": [],
     "prompt_number": 12
    },
    {
     "cell_type": "code",
     "collapsed": false,
     "input": [
      "data_hs=[]"
     ],
     "language": "python",
     "metadata": {},
     "outputs": [],
     "prompt_number": 36
    },
    {
     "cell_type": "code",
     "collapsed": false,
     "input": [
      "if not data_hs:\n",
      "    data_hs = []\n",
      "    for i in range(1000):\n",
      "        data_sim = Vm_simulator()\n",
      "        data_hs.append(data_sim)"
     ],
     "language": "python",
     "metadata": {},
     "outputs": [],
     "prompt_number": 37
    },
    {
     "cell_type": "code",
     "collapsed": false,
     "input": [
      "#plt.hist(gen_sinusoid(int(1e6)),bins=100) \n",
      "\n",
      "def f_hs_sine_simulator(k_a,p_f): \n",
      "    fake_phase = Fake_Phs_Generator(Probs, k_a, p_f, dist_type = 'Sine')\n",
      "    hscore, Nc = wpt.plot_result(fake_phase,Probs)\n",
      "    return k_a, p_f, hscore\n",
      "\n",
      "def sine_simulator():\n",
      "    data = Parallel(n_jobs=10)(delayed(f_hs_sine_simulator)(k,p) for k in kappa for p in pf)\n",
      "    return data "
     ],
     "language": "python",
     "metadata": {},
     "outputs": [],
     "prompt_number": 38
    },
    {
     "cell_type": "code",
     "collapsed": false,
     "input": [
      "data_sine_hs = []"
     ],
     "language": "python",
     "metadata": {},
     "outputs": [],
     "prompt_number": "*"
    },
    {
     "cell_type": "code",
     "collapsed": false,
     "input": [
      "if not data_sine_hs:\n",
      "    data_sine_hs = []\n",
      "    for i in range(1000):\n",
      "        data_sim = sine_simulator()\n",
      "        data_sine_hs.append(data_sim)"
     ],
     "language": "python",
     "metadata": {},
     "outputs": [],
     "prompt_number": "*"
    },
    {
     "cell_type": "code",
     "collapsed": false,
     "input": [
      "np.shape(data_sine_hs)\n",
      "print np.shape(data_hs), np.shape(data_sine_hs)"
     ],
     "language": "python",
     "metadata": {},
     "outputs": [],
     "prompt_number": "*"
    },
    {
     "cell_type": "code",
     "collapsed": false,
     "input": [
      "data_FPP = np.array(data_hs).reshape(np.shape(data_hs)[0]*np.shape(data_hs)[1],3) #this array holds all for the VM \n",
      "data_sine_FPP = np.array(data_sine_hs).reshape(np.shape(data_sine_hs)[0]*np.shape(data_sine_hs)[1],3)# This array holds simulatoin data for sine waves \n",
      "np.savetxt('simulated_fpps_new_ker.txt',data_FPP,delimiter = '\\t')"
     ],
     "language": "python",
     "metadata": {},
     "outputs": [],
     "prompt_number": "*"
    },
    {
     "cell_type": "code",
     "collapsed": false,
     "input": [
      "data_FPP_all = np.concatenate((data_FPP, data_sine_FPP), axis=0)"
     ],
     "language": "python",
     "metadata": {},
     "outputs": [],
     "prompt_number": "*"
    },
    {
     "cell_type": "code",
     "collapsed": false,
     "input": [
      "import matplotlib.cm as cm\n",
      "from mpl_toolkits.mplot3d import Axes3D\n",
      "\n",
      "kappa_ax = data_FPP_all[:,0]  #kappa\n",
      "PF_ax = data_FPP_all[:,1]  #PF\n",
      "hscore_ax = data_FPP_all[:,2]  #hscore\n",
      "plt.scatter(kappa_ax,PF_ax, c =hscore_ax, cmap= 'jet')\n",
      "plt.ylabel('Pulse Fraction')\n",
      "plt.xlabel('Kappa')\n",
      "plot_tools.tick_par(plt)\n",
      "plot_tools.plot_size(plt,mul=1) \n",
      "plt.tight_layout()\n",
      "plt.colorbar()"
     ],
     "language": "python",
     "metadata": {},
     "outputs": [
      {
       "metadata": {},
       "output_type": "pyout",
       "prompt_number": 75,
       "text": [
        "<matplotlib.colorbar.Colorbar instance at 0x7fdf118fb0e0>"
       ]
      },
      {
       "metadata": {},
       "output_type": "display_data",
       "png": "[encoded data removed]",
       "text": [
        "<matplotlib.figure.Figure at 0x7fdf11955e50>"
       ]
      }
     ],
     "prompt_number": 75
    },
    {
     "cell_type": "code",
     "collapsed": false,
     "input": [
      "plt.scatter(PF_ax, hscore_ax,marker = '.')\n",
      "plot_tools.tick_par(plt)\n",
      "plot_tools.plot_size(plt,mul=1) \n",
      "plt.tight_layout()\n",
      "plt.xlabel('Pulse Fraction') \n",
      "#plt.ylabel(r'$log\\_{10}FPP')\n",
      "plt.xlim(-0.5,1.5)\n",
      "plt.ylim(np.amin(hscore_ax)-1000,np.amax(hscore_ax)+2000)\n",
      "plt.xlabel('Pulse Fraction')\n",
      "plt.ylabel(r'$log_{10}FPP$')"
     ],
     "language": "python",
     "metadata": {},
     "outputs": [
      {
       "metadata": {},
       "output_type": "pyout",
       "prompt_number": 76,
       "text": [
        "<matplotlib.text.Text at 0x7fdf1194ca50>"
       ]
      },
      {
       "metadata": {},
       "output_type": "display_data",
       "png": "[encoded data removed]",
       "text": [
        "<matplotlib.figure.Figure at 0x7fdf119e1250>"
       ]
      }
     ],
     "prompt_number": 76
    },
    {
     "cell_type": "code",
     "collapsed": false,
     "input": [
      "plt.plot(PF_ax[np.where(kappa_ax==1)],hscore_ax[np.where(kappa_ax==1)],linestyle='', marker = '.', color ='r')\n",
      "plt.plot(PF_ax[np.where(kappa_ax==3)],hscore_ax[np.where(kappa_ax==3)],linestyle='', marker = '.', color ='g')\n",
      "plt.plot(PF_ax[np.where(kappa_ax==10)],hscore_ax[np.where(kappa_ax==10)],linestyle='', marker = '.', color ='b')\n",
      "plt.plot(PF_ax[np.where(kappa_ax==25)],hscore_ax[np.where(kappa_ax==25)],linestyle='', marker = '.', color ='k')\n",
      "plt.xlabel('Pulse Fraction') \n",
      "plt.ylabel(r'$log_{10}FPP$')\n",
      "plot_tools.tick_par(plt)\n",
      "plt.xlim(-0.25,1.25)\n",
      "plt.ylim(np.amin(hscore_ax)-1000,np.amax(hscore_ax)+2000)\n",
      "plot_tools.plot_size(plt,mul=0.55,one_col= False) \n",
      "plt.tight_layout()"
     ],
     "language": "python",
     "metadata": {},
     "outputs": [
      {
       "metadata": {},
       "output_type": "display_data",
       "png": "[encoded data removed]",
       "text": [
        "<matplotlib.figure.Figure at 0x7fdf11942fd0>"
       ]
      }
     ],
     "prompt_number": 77
    },
    {
     "cell_type": "code",
     "collapsed": false,
     "input": [
      "##Only 10, 20 nd 100 % \n",
      "##dts - kappa 3 , 10, sinusoidal profile \n",
      "kappa, pf"
     ],
     "language": "python",
     "metadata": {},
     "outputs": [
      {
       "metadata": {},
       "output_type": "pyout",
       "prompt_number": 78,
       "text": [
        "(array([ 1,  3, 10, 25]), array([ 0.05,  0.1 ,  0.2 ,  0.8 ,  1.  ]))"
       ]
      }
     ],
     "prompt_number": 78
    },
    {
     "cell_type": "code",
     "collapsed": false,
     "input": [
      "fake_phase = Fake_Phs_Generator(Probs, 3, 0.1)\n",
      "hscore, Nc = wpt.plot_result(fake_phase,Probs)\n",
      "\n",
      "fake_phase = Fake_Phs_Generator(Probs, 3, 1.0)\n",
      "hscore, Nc = wpt.plot_result(fake_phase,Probs)\n",
      "\n",
      "#fake_phase = Fake_Phs_Generator(Probs, 5, 0.1)\n",
      "#hscore, Nc = wpt.plot_result(fake_phase,Probs)\n",
      "\n",
      "plot_tools.tick_par(plt)\n",
      "plot_tools.plot_size(plt,mul=0.65,one_col=False) \n",
      "plt.tight_layout()\n",
      "plt.savefig('%s/example_profile.pdf'%res_dir)"
     ],
     "language": "python",
     "metadata": {},
     "outputs": [
      {
       "metadata": {},
       "output_type": "display_data",
       "png": "[encoded data removed]",
       "text": [
        "<matplotlib.figure.Figure at 0x7fdf037dcf90>"
       ]
      }
     ],
     "prompt_number": 63
    },
    {
     "cell_type": "markdown",
     "metadata": {},
     "source": [
      "##Now gettign te false positive probability that "
     ]
    },
    {
     "cell_type": "code",
     "collapsed": false,
     "input": [
      "idx_arr = np.intersect1d(np.where(data_FPP[:,0]==3)[0],np.where(data_FPP[:,1]==0.1)[0])\n",
      "data_FPP[idx_arr] "
     ],
     "language": "python",
     "metadata": {},
     "outputs": [
      {
       "metadata": {},
       "output_type": "pyout",
       "prompt_number": 115,
       "text": [
        "array([[  3.        ,   0.1       ,  -4.10537033],\n",
        "       [  3.        ,   0.1       ,  -9.98745427],\n",
        "       [  3.        ,   0.1       ,  -9.56199713],\n",
        "       ..., \n",
        "       [  3.        ,   0.1       , -10.60090264],\n",
        "       [  3.        ,   0.1       ,  -7.15186388],\n",
        "       [  3.        ,   0.1       , -10.40916287]])"
       ]
      }
     ],
     "prompt_number": 115
    },
    {
     "cell_type": "code",
     "collapsed": false,
     "input": [
      "##do it the reverse way : from given sigma go to how strong the signal "
     ],
     "language": "python",
     "metadata": {},
     "outputs": [],
     "prompt_number": "*"
    },
    {
     "cell_type": "code",
     "collapsed": false,
     "input": [
      "##getting H_scores for Kappa of 3 and PF of 10% \n",
      "h_score_95th = np.percentile(data_FPP[idx_arr][:,2],25)"
     ],
     "language": "python",
     "metadata": {},
     "outputs": [],
     "prompt_number": 139
    },
    {
     "cell_type": "code",
     "collapsed": false,
     "input": [
      "h_score_95th"
     ],
     "language": "python",
     "metadata": {},
     "outputs": [
      {
       "metadata": {},
       "output_type": "pyout",
       "prompt_number": 140,
       "text": [
        "-10.647967752179643"
       ]
      }
     ],
     "prompt_number": 140
    },
    {
     "cell_type": "code",
     "collapsed": false,
     "input": [
      "fpp_95th  = 10**(h_score_95th)\n",
      "fpp_95th "
     ],
     "language": "python",
     "metadata": {},
     "outputs": [
      {
       "metadata": {},
       "output_type": "pyout",
       "prompt_number": 134,
       "text": [
        "1.1259944250546951e-05"
       ]
      }
     ],
     "prompt_number": 134
    },
    {
     "cell_type": "code",
     "collapsed": false,
     "input": [
      "import scipy.special as spp\n",
      "n_sigma = spp.erfinv((1-fpp_95th))*2**0.5"
     ],
     "language": "python",
     "metadata": {},
     "outputs": [],
     "prompt_number": 135
    },
    {
     "cell_type": "code",
     "collapsed": false,
     "input": [
      "n_sigma"
     ],
     "language": "python",
     "metadata": {},
     "outputs": [
      {
       "metadata": {},
       "output_type": "pyout",
       "prompt_number": 136,
       "text": [
        "4.3914457295562634"
       ]
      }
     ],
     "prompt_number": 136
    },
    {
     "cell_type": "code",
     "collapsed": false,
     "input": [],
     "language": "python",
     "metadata": {},
     "outputs": []
    }
   ],
   "metadata": {}
  }
 ]
}